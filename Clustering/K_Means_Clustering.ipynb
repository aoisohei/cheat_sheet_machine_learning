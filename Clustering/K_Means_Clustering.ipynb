{
  "nbformat": 4,
  "nbformat_minor": 0,
  "metadata": {
    "colab": {
      "name": "K-Means Clustering.ipynb",
      "provenance": []
    },
    "kernelspec": {
      "name": "python3",
      "display_name": "Python 3"
    }
  },
  "cells": [
    {
      "cell_type": "markdown",
      "metadata": {
        "id": "yhG5OLs7HJ_5"
      },
      "source": [
        "<h1 align=center>K-Means Clustering</h1>\n",
        "<hr>"
      ]
    },
    {
      "cell_type": "markdown",
      "metadata": {
        "id": "pXlmrpEKHTgX"
      },
      "source": [
        "# 1. Bibliotheques"
      ]
    },
    {
      "cell_type": "code",
      "metadata": {
        "id": "fIkApozIlX6W"
      },
      "source": [
        "import numpy as np\n",
        "import pandas as pd\n",
        "  \n",
        "import matplotlib.pyplot as plt\n",
        "\n",
        "import sklearn\n",
        "from sklearn.cluster import KMeans\n",
        "from mpl_toolkits.mplot3d import Axes3D\n",
        "from sklearn.preprocessing import scale\n",
        "\n",
        "import sklearn.metrics as sm\n",
        "from sklearn import datasets\n",
        "from sklearn.metrics import confusion_matrix, classification_report"
      ],
      "execution_count": 24,
      "outputs": []
    },
    {
      "cell_type": "markdown",
      "metadata": {
        "id": "-FW3Iv3DHnSK"
      },
      "source": [
        "# 2. Les paramètres pour la visualisation"
      ]
    },
    {
      "cell_type": "code",
      "metadata": {
        "id": "qme-w9mvqgWx"
      },
      "source": [
        "%matplotlib inline\n",
        "matplotlib.rcParams['figure.figsize'] = 7, 4"
      ],
      "execution_count": 25,
      "outputs": []
    },
    {
      "cell_type": "markdown",
      "metadata": {
        "id": "409zMppyHwZj"
      },
      "source": [
        "# 3. Données"
      ]
    },
    {
      "cell_type": "code",
      "metadata": {
        "colab": {
          "base_uri": "https://localhost:8080/"
        },
        "id": "Qxkse5JMrKY2",
        "outputId": "de851780-8807-47a5-afe8-6e955ae495da"
      },
      "source": [
        "iris = datasets.load_iris()\n",
        "X = scale(iris.data)\n",
        "y = pd.DataFrame(iris.target)\n",
        "varianle_name = iris.feature_names\n",
        "X[0:10,]"
      ],
      "execution_count": 26,
      "outputs": [
        {
          "output_type": "execute_result",
          "data": {
            "text/plain": [
              "array([[-0.90068117,  1.01900435, -1.34022653, -1.3154443 ],\n",
              "       [-1.14301691, -0.13197948, -1.34022653, -1.3154443 ],\n",
              "       [-1.38535265,  0.32841405, -1.39706395, -1.3154443 ],\n",
              "       [-1.50652052,  0.09821729, -1.2833891 , -1.3154443 ],\n",
              "       [-1.02184904,  1.24920112, -1.34022653, -1.3154443 ],\n",
              "       [-0.53717756,  1.93979142, -1.16971425, -1.05217993],\n",
              "       [-1.50652052,  0.78880759, -1.34022653, -1.18381211],\n",
              "       [-1.02184904,  0.78880759, -1.2833891 , -1.3154443 ],\n",
              "       [-1.74885626, -0.36217625, -1.34022653, -1.3154443 ],\n",
              "       [-1.14301691,  0.09821729, -1.2833891 , -1.44707648]])"
            ]
          },
          "metadata": {
            "tags": []
          },
          "execution_count": 26
        }
      ]
    },
    {
      "cell_type": "markdown",
      "metadata": {
        "id": "OF_uDMB6H-kt"
      },
      "source": [
        "# 4. On fait et on lance notre model"
      ]
    },
    {
      "cell_type": "code",
      "metadata": {
        "colab": {
          "base_uri": "https://localhost:8080/"
        },
        "id": "VrgSxbn6qlaT",
        "outputId": "2db2c2bb-1262-4b97-c61b-2d39437fed36"
      },
      "source": [
        "clustering = KMeans(n_clusters=3,random_state=5)\n",
        "clustering.fit(X)"
      ],
      "execution_count": 27,
      "outputs": [
        {
          "output_type": "execute_result",
          "data": {
            "text/plain": [
              "KMeans(algorithm='auto', copy_x=True, init='k-means++', max_iter=300,\n",
              "       n_clusters=3, n_init=10, n_jobs=None, precompute_distances='auto',\n",
              "       random_state=5, tol=0.0001, verbose=0)"
            ]
          },
          "metadata": {
            "tags": []
          },
          "execution_count": 27
        }
      ]
    },
    {
      "cell_type": "markdown",
      "metadata": {
        "id": "ujKbGfDyINvk"
      },
      "source": [
        "# 5. On fait un diagramme plot de model"
      ]
    },
    {
      "cell_type": "code",
      "metadata": {
        "id": "5GQivQeKsGbh"
      },
      "source": [
        "iris_df = pd.DataFrame(iris.data)\n",
        "iris_df.columns = ['Sepal_Length', 'Sepal_Width', 'Petal_Length', 'Petal_Width']\n",
        "y.columns = ['Targets']"
      ],
      "execution_count": 28,
      "outputs": []
    },
    {
      "cell_type": "markdown",
      "metadata": {
        "id": "_4eRMh8kIfgN"
      },
      "source": [
        "# 6. On affiche un plot"
      ]
    },
    {
      "cell_type": "code",
      "metadata": {
        "colab": {
          "base_uri": "https://localhost:8080/",
          "height": 328
        },
        "id": "Z7a3rkBFskMF",
        "outputId": "48768a39-c1f2-46c3-c7df-8513543d290d"
      },
      "source": [
        "color_theme = np.array(['darkgray', 'lightsalmon', 'powderblue'])\n",
        " \n",
        "plt.subplot(1,2,1)\n",
        "plt.scatter(x=iris_df.Petal_Length, y=iris_df.Petal_Width, c = color_theme[iris.target], s = 50)\n",
        "plt.title('\\nGround Truth Classification\\n')\n",
        "\n",
        "plt.subplot(1,2,2)\n",
        "plt.scatter(x=iris_df.Petal_Length, y=iris_df.Petal_Width, c = color_theme[clustering.labels_], s = 50)\n",
        "plt.title('\\nK-Means Classification\\n')"
      ],
      "execution_count": 33,
      "outputs": [
        {
          "output_type": "execute_result",
          "data": {
            "text/plain": [
              "Text(0.5, 1.0, '\\nK-Means Classification\\n')"
            ]
          },
          "metadata": {
            "tags": []
          },
          "execution_count": 33
        },
        {
          "output_type": "display_data",
          "data": {
            "image/png": "[encoded data removed]",
            "text/plain": [
              "<Figure size 504x288 with 2 Axes>"
            ]
          },
          "metadata": {
            "tags": [],
            "needs_background": "light"
          }
        }
      ]
    },
    {
      "cell_type": "markdown",
      "metadata": {
        "id": "iZ_BnhGDI7ST"
      },
      "source": [
        "# 7. On réattribue les noms des labels"
      ]
    },
    {
      "cell_type": "code",
      "metadata": {
        "colab": {
          "base_uri": "https://localhost:8080/",
          "height": 328
        },
        "id": "pvIW1_X0wYpE",
        "outputId": "92cfd631-d295-47cd-d56a-2c7608a9c7c6"
      },
      "source": [
        "relabel = np.choose(clustering.labels_, [2,0,1]).astype(np.int64)\n",
        "plt.subplot(1,2,1)\n",
        "plt.scatter(x=iris_df.Petal_Length, y=iris_df.Petal_Width, c = color_theme[iris.target], s = 50)\n",
        "plt.title('\\nGround Truth Classification\\n')\n",
        "\n",
        "plt.subplot(1,2,2)\n",
        "plt.scatter(x=iris_df.Petal_Length, y=iris_df.Petal_Width, c = color_theme[clustering.labels_], s = 50)\n",
        "plt.title('\\nK-Means Classification\\n')"
      ],
      "execution_count": 36,
      "outputs": [
        {
          "output_type": "execute_result",
          "data": {
            "text/plain": [
              "Text(0.5, 1.0, '\\nK-Means Classification\\n')"
            ]
          },
          "metadata": {
            "tags": []
          },
          "execution_count": 36
        },
        {
          "output_type": "display_data",
          "data": {
            "image/png": "[encoded data removed]",
            "text/plain": [
              "<Figure size 504x288 with 2 Axes>"
            ]
          },
          "metadata": {
            "tags": [],
            "needs_background": "light"
          }
        }
      ]
    },
    {
      "cell_type": "markdown",
      "metadata": {
        "id": "5SwPh-ExJXq-"
      },
      "source": [
        "# 8. On vérifie les paramétres de K-mean classtering"
      ]
    },
    {
      "cell_type": "code",
      "metadata": {
        "colab": {
          "base_uri": "https://localhost:8080/"
        },
        "id": "THMo_LeGwrm1",
        "outputId": "c2db654f-a915-4419-925b-36753322b445"
      },
      "source": [
        "print(classification_report(y, relabel))"
      ],
      "execution_count": 37,
      "outputs": [
        {
          "output_type": "stream",
          "text": [
            "              precision    recall  f1-score   support\n",
            "\n",
            "           0       1.00      1.00      1.00        50\n",
            "           1       0.23      0.22      0.23        50\n",
            "           2       0.26      0.28      0.27        50\n",
            "\n",
            "    accuracy                           0.50       150\n",
            "   macro avg       0.50      0.50      0.50       150\n",
            "weighted avg       0.50      0.50      0.50       150\n",
            "\n"
          ],
          "name": "stdout"
        }
      ]
    },
    {
      "cell_type": "markdown",
      "metadata": {
        "id": "OjhVV35QJpXc"
      },
      "source": [
        "# 9. Conclusion\n",
        "\n",
        "_Le clasteur avec le numèro 0 a la plus haute précision = 1.00. Les autres clasteurs ont été analysées en fonction de la première, donc ils ne sont pas sûrs, et donc leurs précisions sont moindre._"
      ]
    }
  ]
}