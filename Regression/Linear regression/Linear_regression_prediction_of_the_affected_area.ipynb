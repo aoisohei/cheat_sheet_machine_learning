{
  "nbformat": 4,
  "nbformat_minor": 0,
  "metadata": {
    "colab": {
      "name": "Linear regression - prediction of the affected area.ipynb",
      "provenance": [],
      "collapsed_sections": [],
      "toc_visible": true
    },
    "kernelspec": {
      "name": "python3",
      "display_name": "Python 3"
    }
  },
  "cells": [
    {
      "cell_type": "markdown",
      "metadata": {
        "id": "3_SyPEEIeWGk"
      },
      "source": [
        "# Earthquakes"
      ]
    },
    {
      "cell_type": "markdown",
      "metadata": {
        "id": "Zyabm7TwHr6Q"
      },
      "source": [
        "***Go to our folder 'Earthquakes'***"
      ]
    },
    {
      "cell_type": "code",
      "metadata": {
        "colab": {
          "base_uri": "https://localhost:8080/"
        },
        "id": "Vp7_86fo3JM3",
        "outputId": "13a88392-1b7a-42bc-a42d-a5262f31d746"
      },
      "source": [
        "cd drive/MyDrive/'Colab Notebooks'/'Machine Learning'/'Supervised Learning'/'Linear regression'"
      ],
      "execution_count": 1,
      "outputs": [
        {
          "output_type": "stream",
          "text": [
            "/content/drive/MyDrive/Colab Notebooks/Machine Learning/Supervised Learning/Linear regression\n"
          ],
          "name": "stdout"
        }
      ]
    },
    {
      "cell_type": "code",
      "metadata": {
        "id": "jCBcEkPu3X9S",
        "colab": {
          "base_uri": "https://localhost:8080/"
        },
        "outputId": "e3a6a8c2-06cb-4265-df94-74b770e6e064"
      },
      "source": [
        "ls"
      ],
      "execution_count": 2,
      "outputs": [
        {
          "output_type": "stream",
          "text": [
            "'Japan earthquakes 2001 - 2018.csv'\n",
            "'Linear regression - prediction of the affected area.ipynb'\n"
          ],
          "name": "stdout"
        }
      ]
    },
    {
      "cell_type": "markdown",
      "metadata": {
        "id": "1ehM8ApAH2OC"
      },
      "source": [
        ""
      ]
    },
    {
      "cell_type": "markdown",
      "metadata": {
        "id": "JIm5hbzrnK5g"
      },
      "source": [
        "# 1.Le traitement d'un table principale \r\n",
        "\r\n",
        "***Japan earthquakes 2001 - 2018.csv*** "
      ]
    },
    {
      "cell_type": "code",
      "metadata": {
        "id": "b0M8EMrFGZPt"
      },
      "source": [
        "import matplotlib\r\n",
        "import matplotlib.pyplot as plt\r\n",
        "import numpy as np\r\n",
        "import pandas as pd\r\n",
        "import sklearn"
      ],
      "execution_count": 3,
      "outputs": []
    },
    {
      "cell_type": "code",
      "metadata": {
        "colab": {
          "base_uri": "https://localhost:8080/",
          "height": 677
        },
        "id": "zWQ69gB91_uK",
        "outputId": "01356d23-be43-4d29-ee9f-d6983c696cd0"
      },
      "source": [
        "# our table\r\n",
        "\r\n",
        "eq = pd.read_csv('Japan earthquakes 2001 - 2018.csv')\r\n",
        "eq"
      ],
      "execution_count": 4,
      "outputs": [
        {
          "output_type": "execute_result",
          "data": {
            "text/html": [
              "<div>\n",
              "<style scoped>\n",
              "    .dataframe tbody tr th:only-of-type {\n",
              "        vertical-align: middle;\n",
              "    }\n",
              "\n",
              "    .dataframe tbody tr th {\n",
              "        vertical-align: top;\n",
              "    }\n",
              "\n",
              "    .dataframe thead th {\n",
              "        text-align: right;\n",
              "    }\n",
              "</style>\n",
              "<table border=\"1\" class=\"dataframe\">\n",
              "  <thead>\n",
              "    <tr style=\"text-align: right;\">\n",
              "      <th></th>\n",
              "      <th>time</th>\n",
              "      <th>latitude</th>\n",
              "      <th>longitude</th>\n",
              "      <th>depth</th>\n",
              "      <th>mag</th>\n",
              "      <th>magType</th>\n",
              "      <th>nst</th>\n",
              "      <th>gap</th>\n",
              "      <th>dmin</th>\n",
              "      <th>rms</th>\n",
              "      <th>net</th>\n",
              "      <th>id</th>\n",
              "      <th>updated</th>\n",
              "      <th>place</th>\n",
              "      <th>type</th>\n",
              "      <th>horizontalError</th>\n",
              "      <th>depthError</th>\n",
              "      <th>magError</th>\n",
              "      <th>magNst</th>\n",
              "      <th>status</th>\n",
              "      <th>locationSource</th>\n",
              "      <th>magSource</th>\n",
              "    </tr>\n",
              "  </thead>\n",
              "  <tbody>\n",
              "    <tr>\n",
              "      <th>0</th>\n",
              "      <td>2018-11-27T14:34:20.900Z</td>\n",
              "      <td>48.3780</td>\n",
              "      <td>154.9620</td>\n",
              "      <td>35.00</td>\n",
              "      <td>4.9</td>\n",
              "      <td>mb</td>\n",
              "      <td>NaN</td>\n",
              "      <td>92.0</td>\n",
              "      <td>5.044</td>\n",
              "      <td>0.63</td>\n",
              "      <td>us</td>\n",
              "      <td>us1000hx1b</td>\n",
              "      <td>2018-11-27T16:06:33.040Z</td>\n",
              "      <td>269km SSW of Severo-Kuril'sk, Russia</td>\n",
              "      <td>earthquake</td>\n",
              "      <td>7.6</td>\n",
              "      <td>1.7</td>\n",
              "      <td>0.036</td>\n",
              "      <td>248.0</td>\n",
              "      <td>reviewed</td>\n",
              "      <td>us</td>\n",
              "      <td>us</td>\n",
              "    </tr>\n",
              "    <tr>\n",
              "      <th>1</th>\n",
              "      <td>2018-11-26T23:33:50.630Z</td>\n",
              "      <td>36.0733</td>\n",
              "      <td>139.7830</td>\n",
              "      <td>48.82</td>\n",
              "      <td>4.8</td>\n",
              "      <td>mww</td>\n",
              "      <td>NaN</td>\n",
              "      <td>113.0</td>\n",
              "      <td>1.359</td>\n",
              "      <td>1.13</td>\n",
              "      <td>us</td>\n",
              "      <td>us1000hwvf</td>\n",
              "      <td>2018-11-27T16:44:22.223Z</td>\n",
              "      <td>3km SSW of Sakai, Japan</td>\n",
              "      <td>earthquake</td>\n",
              "      <td>6.0</td>\n",
              "      <td>6.1</td>\n",
              "      <td>0.071</td>\n",
              "      <td>19.0</td>\n",
              "      <td>reviewed</td>\n",
              "      <td>us</td>\n",
              "      <td>us</td>\n",
              "    </tr>\n",
              "    <tr>\n",
              "      <th>2</th>\n",
              "      <td>2018-11-26T13:04:02.250Z</td>\n",
              "      <td>38.8576</td>\n",
              "      <td>141.8384</td>\n",
              "      <td>50.56</td>\n",
              "      <td>4.5</td>\n",
              "      <td>mb</td>\n",
              "      <td>NaN</td>\n",
              "      <td>145.0</td>\n",
              "      <td>1.286</td>\n",
              "      <td>0.84</td>\n",
              "      <td>us</td>\n",
              "      <td>us1000hwmi</td>\n",
              "      <td>2018-11-26T23:52:21.074Z</td>\n",
              "      <td>26km SSE of Ofunato, Japan</td>\n",
              "      <td>earthquake</td>\n",
              "      <td>8.4</td>\n",
              "      <td>9.5</td>\n",
              "      <td>0.156</td>\n",
              "      <td>12.0</td>\n",
              "      <td>reviewed</td>\n",
              "      <td>us</td>\n",
              "      <td>us</td>\n",
              "    </tr>\n",
              "    <tr>\n",
              "      <th>3</th>\n",
              "      <td>2018-11-26T05:20:16.440Z</td>\n",
              "      <td>50.0727</td>\n",
              "      <td>156.1420</td>\n",
              "      <td>66.34</td>\n",
              "      <td>4.6</td>\n",
              "      <td>mb</td>\n",
              "      <td>NaN</td>\n",
              "      <td>128.0</td>\n",
              "      <td>3.191</td>\n",
              "      <td>0.62</td>\n",
              "      <td>us</td>\n",
              "      <td>us1000hwkm</td>\n",
              "      <td>2018-11-26T08:13:58.040Z</td>\n",
              "      <td>67km S of Severo-Kuril'sk, Russia</td>\n",
              "      <td>earthquake</td>\n",
              "      <td>9.7</td>\n",
              "      <td>7.8</td>\n",
              "      <td>0.045</td>\n",
              "      <td>151.0</td>\n",
              "      <td>reviewed</td>\n",
              "      <td>us</td>\n",
              "      <td>us</td>\n",
              "    </tr>\n",
              "    <tr>\n",
              "      <th>4</th>\n",
              "      <td>2018-11-25T09:19:05.010Z</td>\n",
              "      <td>33.9500</td>\n",
              "      <td>134.4942</td>\n",
              "      <td>38.19</td>\n",
              "      <td>4.6</td>\n",
              "      <td>mb</td>\n",
              "      <td>NaN</td>\n",
              "      <td>104.0</td>\n",
              "      <td>0.558</td>\n",
              "      <td>0.61</td>\n",
              "      <td>us</td>\n",
              "      <td>us1000hwig</td>\n",
              "      <td>2018-11-25T23:24:52.615Z</td>\n",
              "      <td>9km SW of Komatsushima, Japan</td>\n",
              "      <td>earthquake</td>\n",
              "      <td>3.4</td>\n",
              "      <td>10.1</td>\n",
              "      <td>0.132</td>\n",
              "      <td>17.0</td>\n",
              "      <td>reviewed</td>\n",
              "      <td>us</td>\n",
              "      <td>us</td>\n",
              "    </tr>\n",
              "    <tr>\n",
              "      <th>...</th>\n",
              "      <td>...</td>\n",
              "      <td>...</td>\n",
              "      <td>...</td>\n",
              "      <td>...</td>\n",
              "      <td>...</td>\n",
              "      <td>...</td>\n",
              "      <td>...</td>\n",
              "      <td>...</td>\n",
              "      <td>...</td>\n",
              "      <td>...</td>\n",
              "      <td>...</td>\n",
              "      <td>...</td>\n",
              "      <td>...</td>\n",
              "      <td>...</td>\n",
              "      <td>...</td>\n",
              "      <td>...</td>\n",
              "      <td>...</td>\n",
              "      <td>...</td>\n",
              "      <td>...</td>\n",
              "      <td>...</td>\n",
              "      <td>...</td>\n",
              "      <td>...</td>\n",
              "    </tr>\n",
              "    <tr>\n",
              "      <th>14087</th>\n",
              "      <td>2001-01-04T04:18:21.430Z</td>\n",
              "      <td>36.9810</td>\n",
              "      <td>138.6290</td>\n",
              "      <td>21.40</td>\n",
              "      <td>5.3</td>\n",
              "      <td>mwc</td>\n",
              "      <td>240.0</td>\n",
              "      <td>NaN</td>\n",
              "      <td>NaN</td>\n",
              "      <td>0.78</td>\n",
              "      <td>us</td>\n",
              "      <td>usp000a74c</td>\n",
              "      <td>2016-11-09T21:35:38.927Z</td>\n",
              "      <td>eastern Honshu, Japan</td>\n",
              "      <td>earthquake</td>\n",
              "      <td>NaN</td>\n",
              "      <td>5.4</td>\n",
              "      <td>NaN</td>\n",
              "      <td>NaN</td>\n",
              "      <td>reviewed</td>\n",
              "      <td>us</td>\n",
              "      <td>hrv</td>\n",
              "    </tr>\n",
              "    <tr>\n",
              "      <th>14088</th>\n",
              "      <td>2001-01-03T14:47:49.540Z</td>\n",
              "      <td>43.9320</td>\n",
              "      <td>147.8130</td>\n",
              "      <td>33.00</td>\n",
              "      <td>5.9</td>\n",
              "      <td>mwc</td>\n",
              "      <td>362.0</td>\n",
              "      <td>NaN</td>\n",
              "      <td>NaN</td>\n",
              "      <td>0.82</td>\n",
              "      <td>us</td>\n",
              "      <td>usp000a73r</td>\n",
              "      <td>2016-11-09T04:09:27.754Z</td>\n",
              "      <td>Kuril Islands</td>\n",
              "      <td>earthquake</td>\n",
              "      <td>NaN</td>\n",
              "      <td>NaN</td>\n",
              "      <td>NaN</td>\n",
              "      <td>NaN</td>\n",
              "      <td>reviewed</td>\n",
              "      <td>us</td>\n",
              "      <td>hrv</td>\n",
              "    </tr>\n",
              "    <tr>\n",
              "      <th>14089</th>\n",
              "      <td>2001-01-03T09:32:54.710Z</td>\n",
              "      <td>45.3010</td>\n",
              "      <td>149.9410</td>\n",
              "      <td>33.00</td>\n",
              "      <td>4.6</td>\n",
              "      <td>mb</td>\n",
              "      <td>40.0</td>\n",
              "      <td>NaN</td>\n",
              "      <td>NaN</td>\n",
              "      <td>0.82</td>\n",
              "      <td>us</td>\n",
              "      <td>usp000a73h</td>\n",
              "      <td>2014-11-07T01:11:51.270Z</td>\n",
              "      <td>Kuril Islands</td>\n",
              "      <td>earthquake</td>\n",
              "      <td>NaN</td>\n",
              "      <td>NaN</td>\n",
              "      <td>NaN</td>\n",
              "      <td>20.0</td>\n",
              "      <td>reviewed</td>\n",
              "      <td>us</td>\n",
              "      <td>us</td>\n",
              "    </tr>\n",
              "    <tr>\n",
              "      <th>14090</th>\n",
              "      <td>2001-01-02T20:29:49.670Z</td>\n",
              "      <td>32.2390</td>\n",
              "      <td>141.5080</td>\n",
              "      <td>33.00</td>\n",
              "      <td>4.9</td>\n",
              "      <td>mb</td>\n",
              "      <td>32.0</td>\n",
              "      <td>NaN</td>\n",
              "      <td>NaN</td>\n",
              "      <td>0.96</td>\n",
              "      <td>us</td>\n",
              "      <td>usp000a72u</td>\n",
              "      <td>2014-11-07T01:11:51.119Z</td>\n",
              "      <td>Izu Islands, Japan region</td>\n",
              "      <td>earthquake</td>\n",
              "      <td>NaN</td>\n",
              "      <td>NaN</td>\n",
              "      <td>NaN</td>\n",
              "      <td>23.0</td>\n",
              "      <td>reviewed</td>\n",
              "      <td>us</td>\n",
              "      <td>us</td>\n",
              "    </tr>\n",
              "    <tr>\n",
              "      <th>14091</th>\n",
              "      <td>2001-01-02T10:53:23.280Z</td>\n",
              "      <td>37.2180</td>\n",
              "      <td>138.4310</td>\n",
              "      <td>33.00</td>\n",
              "      <td>4.9</td>\n",
              "      <td>mb</td>\n",
              "      <td>43.0</td>\n",
              "      <td>NaN</td>\n",
              "      <td>NaN</td>\n",
              "      <td>0.93</td>\n",
              "      <td>us</td>\n",
              "      <td>usp000a72e</td>\n",
              "      <td>2014-11-07T01:11:50.950Z</td>\n",
              "      <td>near the west coast of Honshu, Japan</td>\n",
              "      <td>earthquake</td>\n",
              "      <td>NaN</td>\n",
              "      <td>NaN</td>\n",
              "      <td>NaN</td>\n",
              "      <td>15.0</td>\n",
              "      <td>reviewed</td>\n",
              "      <td>us</td>\n",
              "      <td>us</td>\n",
              "    </tr>\n",
              "  </tbody>\n",
              "</table>\n",
              "<p>14092 rows × 22 columns</p>\n",
              "</div>"
            ],
            "text/plain": [
              "                           time  latitude  ...  locationSource  magSource\n",
              "0      2018-11-27T14:34:20.900Z   48.3780  ...              us         us\n",
              "1      2018-11-26T23:33:50.630Z   36.0733  ...              us         us\n",
              "2      2018-11-26T13:04:02.250Z   38.8576  ...              us         us\n",
              "3      2018-11-26T05:20:16.440Z   50.0727  ...              us         us\n",
              "4      2018-11-25T09:19:05.010Z   33.9500  ...              us         us\n",
              "...                         ...       ...  ...             ...        ...\n",
              "14087  2001-01-04T04:18:21.430Z   36.9810  ...              us        hrv\n",
              "14088  2001-01-03T14:47:49.540Z   43.9320  ...              us        hrv\n",
              "14089  2001-01-03T09:32:54.710Z   45.3010  ...              us         us\n",
              "14090  2001-01-02T20:29:49.670Z   32.2390  ...              us         us\n",
              "14091  2001-01-02T10:53:23.280Z   37.2180  ...              us         us\n",
              "\n",
              "[14092 rows x 22 columns]"
            ]
          },
          "metadata": {
            "tags": []
          },
          "execution_count": 4
        }
      ]
    },
    {
      "cell_type": "markdown",
      "metadata": {
        "id": "YrYGDQtTVjU3"
      },
      "source": [
        "# IDEA 0"
      ]
    },
    {
      "cell_type": "code",
      "metadata": {
        "colab": {
          "base_uri": "https://localhost:8080/",
          "height": 419
        },
        "id": "RcmQpjLNVoWf",
        "outputId": "deb000c7-ddc2-44ae-ed05-7879625214d7"
      },
      "source": [
        "eq_stats = eq[[\"latitude\",\"longitude\",  \"depth\"]]\r\n",
        "eq_stats"
      ],
      "execution_count": 17,
      "outputs": [
        {
          "output_type": "execute_result",
          "data": {
            "text/html": [
              "<div>\n",
              "<style scoped>\n",
              "    .dataframe tbody tr th:only-of-type {\n",
              "        vertical-align: middle;\n",
              "    }\n",
              "\n",
              "    .dataframe tbody tr th {\n",
              "        vertical-align: top;\n",
              "    }\n",
              "\n",
              "    .dataframe thead th {\n",
              "        text-align: right;\n",
              "    }\n",
              "</style>\n",
              "<table border=\"1\" class=\"dataframe\">\n",
              "  <thead>\n",
              "    <tr style=\"text-align: right;\">\n",
              "      <th></th>\n",
              "      <th>latitude</th>\n",
              "      <th>longitude</th>\n",
              "      <th>depth</th>\n",
              "    </tr>\n",
              "  </thead>\n",
              "  <tbody>\n",
              "    <tr>\n",
              "      <th>0</th>\n",
              "      <td>48.3780</td>\n",
              "      <td>154.9620</td>\n",
              "      <td>35.00</td>\n",
              "    </tr>\n",
              "    <tr>\n",
              "      <th>1</th>\n",
              "      <td>36.0733</td>\n",
              "      <td>139.7830</td>\n",
              "      <td>48.82</td>\n",
              "    </tr>\n",
              "    <tr>\n",
              "      <th>2</th>\n",
              "      <td>38.8576</td>\n",
              "      <td>141.8384</td>\n",
              "      <td>50.56</td>\n",
              "    </tr>\n",
              "    <tr>\n",
              "      <th>3</th>\n",
              "      <td>50.0727</td>\n",
              "      <td>156.1420</td>\n",
              "      <td>66.34</td>\n",
              "    </tr>\n",
              "    <tr>\n",
              "      <th>4</th>\n",
              "      <td>33.9500</td>\n",
              "      <td>134.4942</td>\n",
              "      <td>38.19</td>\n",
              "    </tr>\n",
              "    <tr>\n",
              "      <th>...</th>\n",
              "      <td>...</td>\n",
              "      <td>...</td>\n",
              "      <td>...</td>\n",
              "    </tr>\n",
              "    <tr>\n",
              "      <th>14087</th>\n",
              "      <td>36.9810</td>\n",
              "      <td>138.6290</td>\n",
              "      <td>21.40</td>\n",
              "    </tr>\n",
              "    <tr>\n",
              "      <th>14088</th>\n",
              "      <td>43.9320</td>\n",
              "      <td>147.8130</td>\n",
              "      <td>33.00</td>\n",
              "    </tr>\n",
              "    <tr>\n",
              "      <th>14089</th>\n",
              "      <td>45.3010</td>\n",
              "      <td>149.9410</td>\n",
              "      <td>33.00</td>\n",
              "    </tr>\n",
              "    <tr>\n",
              "      <th>14090</th>\n",
              "      <td>32.2390</td>\n",
              "      <td>141.5080</td>\n",
              "      <td>33.00</td>\n",
              "    </tr>\n",
              "    <tr>\n",
              "      <th>14091</th>\n",
              "      <td>37.2180</td>\n",
              "      <td>138.4310</td>\n",
              "      <td>33.00</td>\n",
              "    </tr>\n",
              "  </tbody>\n",
              "</table>\n",
              "<p>14092 rows × 3 columns</p>\n",
              "</div>"
            ],
            "text/plain": [
              "       latitude  longitude  depth\n",
              "0       48.3780   154.9620  35.00\n",
              "1       36.0733   139.7830  48.82\n",
              "2       38.8576   141.8384  50.56\n",
              "3       50.0727   156.1420  66.34\n",
              "4       33.9500   134.4942  38.19\n",
              "...         ...        ...    ...\n",
              "14087   36.9810   138.6290  21.40\n",
              "14088   43.9320   147.8130  33.00\n",
              "14089   45.3010   149.9410  33.00\n",
              "14090   32.2390   141.5080  33.00\n",
              "14091   37.2180   138.4310  33.00\n",
              "\n",
              "[14092 rows x 3 columns]"
            ]
          },
          "metadata": {
            "tags": []
          },
          "execution_count": 17
        }
      ]
    },
    {
      "cell_type": "code",
      "metadata": {
        "colab": {
          "base_uri": "https://localhost:8080/",
          "height": 521
        },
        "id": "msBmqjy-WMKz",
        "outputId": "386cf686-d330-4d0d-c291-56fcb0337483"
      },
      "source": [
        "eq_stats['affected area'] = eq_stats[\"latitude\"] * eq_stats[\"longitude\"]\r\n",
        "eq_stats[['affected area', 'depth']]"
      ],
      "execution_count": 18,
      "outputs": [
        {
          "output_type": "stream",
          "text": [
            "/usr/local/lib/python3.6/dist-packages/ipykernel_launcher.py:1: SettingWithCopyWarning: \n",
            "A value is trying to be set on a copy of a slice from a DataFrame.\n",
            "Try using .loc[row_indexer,col_indexer] = value instead\n",
            "\n",
            "See the caveats in the documentation: https://pandas.pydata.org/pandas-docs/stable/user_guide/indexing.html#returning-a-view-versus-a-copy\n",
            "  \"\"\"Entry point for launching an IPython kernel.\n"
          ],
          "name": "stderr"
        },
        {
          "output_type": "execute_result",
          "data": {
            "text/html": [
              "<div>\n",
              "<style scoped>\n",
              "    .dataframe tbody tr th:only-of-type {\n",
              "        vertical-align: middle;\n",
              "    }\n",
              "\n",
              "    .dataframe tbody tr th {\n",
              "        vertical-align: top;\n",
              "    }\n",
              "\n",
              "    .dataframe thead th {\n",
              "        text-align: right;\n",
              "    }\n",
              "</style>\n",
              "<table border=\"1\" class=\"dataframe\">\n",
              "  <thead>\n",
              "    <tr style=\"text-align: right;\">\n",
              "      <th></th>\n",
              "      <th>affected area</th>\n",
              "      <th>depth</th>\n",
              "    </tr>\n",
              "  </thead>\n",
              "  <tbody>\n",
              "    <tr>\n",
              "      <th>0</th>\n",
              "      <td>7496.751636</td>\n",
              "      <td>35.00</td>\n",
              "    </tr>\n",
              "    <tr>\n",
              "      <th>1</th>\n",
              "      <td>5042.434094</td>\n",
              "      <td>48.82</td>\n",
              "    </tr>\n",
              "    <tr>\n",
              "      <th>2</th>\n",
              "      <td>5511.499812</td>\n",
              "      <td>50.56</td>\n",
              "    </tr>\n",
              "    <tr>\n",
              "      <th>3</th>\n",
              "      <td>7818.451523</td>\n",
              "      <td>66.34</td>\n",
              "    </tr>\n",
              "    <tr>\n",
              "      <th>4</th>\n",
              "      <td>4566.078090</td>\n",
              "      <td>38.19</td>\n",
              "    </tr>\n",
              "    <tr>\n",
              "      <th>...</th>\n",
              "      <td>...</td>\n",
              "      <td>...</td>\n",
              "    </tr>\n",
              "    <tr>\n",
              "      <th>14087</th>\n",
              "      <td>5126.639049</td>\n",
              "      <td>21.40</td>\n",
              "    </tr>\n",
              "    <tr>\n",
              "      <th>14088</th>\n",
              "      <td>6493.720716</td>\n",
              "      <td>33.00</td>\n",
              "    </tr>\n",
              "    <tr>\n",
              "      <th>14089</th>\n",
              "      <td>6792.477241</td>\n",
              "      <td>33.00</td>\n",
              "    </tr>\n",
              "    <tr>\n",
              "      <th>14090</th>\n",
              "      <td>4562.076412</td>\n",
              "      <td>33.00</td>\n",
              "    </tr>\n",
              "    <tr>\n",
              "      <th>14091</th>\n",
              "      <td>5152.124958</td>\n",
              "      <td>33.00</td>\n",
              "    </tr>\n",
              "  </tbody>\n",
              "</table>\n",
              "<p>14092 rows × 2 columns</p>\n",
              "</div>"
            ],
            "text/plain": [
              "       affected area  depth\n",
              "0        7496.751636  35.00\n",
              "1        5042.434094  48.82\n",
              "2        5511.499812  50.56\n",
              "3        7818.451523  66.34\n",
              "4        4566.078090  38.19\n",
              "...              ...    ...\n",
              "14087    5126.639049  21.40\n",
              "14088    6493.720716  33.00\n",
              "14089    6792.477241  33.00\n",
              "14090    4562.076412  33.00\n",
              "14091    5152.124958  33.00\n",
              "\n",
              "[14092 rows x 2 columns]"
            ]
          },
          "metadata": {
            "tags": []
          },
          "execution_count": 18
        }
      ]
    },
    {
      "cell_type": "code",
      "metadata": {
        "id": "z--AdK-QW5b8"
      },
      "source": [
        "X = np.c_[eq_stats[\"depth\"]]\r\n",
        "y = np.c_[eq_stats[\"affected area\"]]"
      ],
      "execution_count": 19,
      "outputs": []
    },
    {
      "cell_type": "code",
      "metadata": {
        "colab": {
          "base_uri": "https://localhost:8080/",
          "height": 279
        },
        "id": "N3RjG5OhW5cF",
        "outputId": "1bee84dd-379b-4327-92a1-765598a56705"
      },
      "source": [
        "# Visualize the data\r\n",
        "\r\n",
        "eq_stats.plot(kind='scatter', x=\"depth\", y='affected area')\r\n",
        "plt.show()"
      ],
      "execution_count": 20,
      "outputs": [
        {
          "output_type": "display_data",
          "data": {
            "image/png": "[encoded data removed]",
            "text/plain": [
              "<Figure size 432x288 with 1 Axes>"
            ]
          },
          "metadata": {
            "tags": [],
            "needs_background": "light"
          }
        }
      ]
    },
    {
      "cell_type": "code",
      "metadata": {
        "id": "ojQhmSZEW5cG"
      },
      "source": [
        "# Select a linear model\r\n",
        "\r\n",
        "from sklearn.linear_model import LinearRegression\r\n",
        "lin_reg_model = sklearn.linear_model.LinearRegression()"
      ],
      "execution_count": 9,
      "outputs": []
    },
    {
      "cell_type": "code",
      "metadata": {
        "colab": {
          "base_uri": "https://localhost:8080/"
        },
        "id": "SPSV2iW3W5cG",
        "outputId": "85a61d7f-4f99-4495-bdc0-e98aaf5f013f"
      },
      "source": [
        "# Train the model\r\n",
        "lin_reg_model.fit(X, y)"
      ],
      "execution_count": 10,
      "outputs": [
        {
          "output_type": "execute_result",
          "data": {
            "text/plain": [
              "LinearRegression(copy_X=True, fit_intercept=True, n_jobs=None, normalize=False)"
            ]
          },
          "metadata": {
            "tags": []
          },
          "execution_count": 10
        }
      ]
    },
    {
      "cell_type": "code",
      "metadata": {
        "colab": {
          "base_uri": "https://localhost:8080/"
        },
        "id": "U4OSGxVNX4LR",
        "outputId": "63bf8e0f-08e1-4e20-b313-2d3cc693070f"
      },
      "source": [
        "X_new = [[33.00]]\r\n",
        "print(lin_reg_model.predict(X_new))"
      ],
      "execution_count": 11,
      "outputs": [
        {
          "output_type": "stream",
          "text": [
            "[[9185.3931158]]\n"
          ],
          "name": "stdout"
        }
      ]
    }
  ]
}
